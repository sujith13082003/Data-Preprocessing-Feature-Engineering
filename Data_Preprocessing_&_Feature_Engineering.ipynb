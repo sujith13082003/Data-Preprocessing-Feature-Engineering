{
  "nbformat": 4,
  "nbformat_minor": 0,
  "metadata": {
    "colab": {
      "provenance": []
    },
    "kernelspec": {
      "name": "python3",
      "display_name": "Python 3"
    },
    "language_info": {
      "name": "python"
    }
  },
  "cells": [
    {
      "cell_type": "code",
      "source": [
        "# House Price Prediction-Data Preprocessing & Feature Engineering\n",
        "\n",
        "# Importing necessary libraries\n",
        "import pandas as pd\n",
        "import numpy as np\n",
        "from sklearn.preprocessing import LabelEncoder\n",
        "\n",
        "# Loading the data\n",
        "train = pd.read_csv('train.csv')\n",
        "test = pd.read_csv('test.csv')\n",
        "test_ID = test['Id']\n",
        "\n",
        "# Combining the data for preprocessing\n",
        "train['TrainFlag'], test['TrainFlag'], test['SalePrice'] = 1, 0, np.nan\n",
        "data = pd.concat([train, test], sort=False)\n",
        "\n",
        "# Handle missing values\n",
        "none_cols = ['PoolQC','MiscFeature','Alley','Fence','FireplaceQu','GarageType',\n",
        "             'GarageFinish','GarageQual','GarageCond','BsmtQual','BsmtCond',\n",
        "             'BsmtExposure','BsmtFinType1','BsmtFinType2','MasVnrType']\n",
        "for col in none_cols:\n",
        "    data[col] = data[col].fillna('None')\n",
        "\n",
        "median_cols = ['GarageYrBlt', 'MasVnrArea', 'LotFrontage']\n",
        "for col in median_cols:\n",
        "    data[col] = data[col].fillna(data[col].median())\n",
        "\n",
        "for col in data.select_dtypes(include='object'):\n",
        "    data[col] = data[col].fillna(data[col].mode()[0])\n",
        "\n",
        "for col in data.select_dtypes(include=np.number):\n",
        "    data[col] = data[col].fillna(data[col].median())\n",
        "\n",
        "# Feature engineering\n",
        "data['TotalSF'] = data['TotalBsmtSF'] + data['1stFlrSF'] + data['2ndFlrSF']\n",
        "data['TotalBath'] = data['BsmtFullBath'] + 0.5 * data['BsmtHalfBath'] + \\\n",
        "                    data['FullBath'] + 0.5 * data['HalfBath']\n",
        "data['Age'] = data['YrSold'] - data['YearBuilt']\n",
        "data['IsRemodeled'] = (data['YearBuilt'] != data['YearRemodAdd']).astype(int)\n",
        "\n",
        "# Label encoding (ordinal categoricals)\n",
        "label_cols = ['FireplaceQu', 'BsmtQual', 'BsmtCond', 'GarageType',\n",
        "              'ExterQual', 'ExterCond', 'BsmtFinType1', 'BsmtFinType2']\n",
        "for col in label_cols:\n",
        "    data[col] = LabelEncoder().fit_transform(data[col].astype(str))\n",
        "\n",
        "# Transforming skewed numeric features\n",
        "numeric_feats = data.select_dtypes(include=[np.number]).columns\n",
        "skewed_feats = data[numeric_feats].apply(lambda x: x.skew()).abs()\n",
        "high_skew = skewed_feats[skewed_feats > 0.75].index\n",
        "for col in high_skew:\n",
        "    data[col] = np.log1p(data[col])\n",
        "\n",
        "data = pd.get_dummies(data)\n",
        "train_clean = data[data['TrainFlag'] == 1].drop('TrainFlag', axis=1)\n",
        "test_clean = data[data['TrainFlag'] == 0].drop(['TrainFlag', 'SalePrice'], axis=1)\n",
        "\n",
        "# Features & Target\n",
        "X = train_clean.drop(['Id', 'SalePrice'], axis=1)\n",
        "y = train_clean['SalePrice']\n"
      ],
      "metadata": {
        "id": "6140J84MzwWG"
      },
      "execution_count": 15,
      "outputs": []
    }
  ]
}